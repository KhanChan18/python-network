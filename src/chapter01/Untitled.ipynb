{
 "cells": [
  {
   "cell_type": "code",
   "execution_count": 2,
   "metadata": {},
   "outputs": [
    {
     "name": "stdout",
     "output_type": "stream",
     "text": [
      "Port: 80 => service name: http\n",
      "Port: 53  => service name: domain\n",
      "Port: 25 => service name: smtp\n",
      "Port: 53  => service name: domain\n"
     ]
    }
   ],
   "source": [
    "import socket\n",
    "\n",
    "def find_service_name():\n",
    "    protocolname = \"tcp\"\n",
    "    for port in [80, 25]:\n",
    "        print \"Port: {0} => service name: {1}\".format(\n",
    "                                    port,\n",
    "                                    socket.getservbyport(port, protocolname)\n",
    "                                    )\n",
    "    print \"Port: {0}  => service name: {1}\".format(\n",
    "                                53,\n",
    "                                socket.getservbyport(53, 'udp')\n",
    "            )\n",
    "\n",
    "find_service_name()\n"
   ]
  },
  {
   "cell_type": "code",
   "execution_count": 9,
   "metadata": {},
   "outputs": [
    {
     "name": "stdout",
     "output_type": "stream",
     "text": [
      "Original: 1234 => Long host byte order: 3523477504, Network byte order: 3523477504\n",
      "Original: 1234 => Long host byte order: 53764, Network byte order: 53764\n"
     ]
    }
   ],
   "source": [
    "import socket\n",
    "\n",
    "def convert_integer():\n",
    "    data = 1234\n",
    "    print \"Original: {0} => Long host byte order: {1}, Network byte order: {2}\".format(\n",
    "                                                                            data,\n",
    "                                                                            socket.ntohl(data),\n",
    "                                                                            socket.htonl(data)\n",
    "                                                                            )\n",
    "    \n",
    "    print \"Original: {0} => Long host byte order: {1}, Network byte order: {2}\".format(\n",
    "                                                                            data,\n",
    "                                                                            socket.ntohs(data),\n",
    "                                                                            socket.htons(data)\n",
    "                                                                            )\n",
    "    \n",
    "convert_integer()"
   ]
  },
  {
   "cell_type": "code",
   "execution_count": 10,
   "metadata": {},
   "outputs": [
    {
     "name": "stderr",
     "output_type": "stream",
     "text": [
      "usage: ipykernel_launcher.py [-h] [--host HOST] [--port PORT] [--file FILE]\n",
      "ipykernel_launcher.py: error: unrecognized arguments: -f /run/user/1000/jupyter/kernel-89cacfb6-f2c0-4e1e-8f25-5121f0201d80.json\n"
     ]
    },
    {
     "ename": "SystemExit",
     "evalue": "2",
     "output_type": "error",
     "traceback": [
      "An exception has occurred, use %tb to see the full traceback.\n",
      "\u001b[0;31mSystemExit\u001b[0m\u001b[0;31m:\u001b[0m 2\n"
     ]
    },
    {
     "name": "stderr",
     "output_type": "stream",
     "text": [
      "/home/han/anaconda2/lib/python2.7/site-packages/IPython/core/interactiveshell.py:2889: UserWarning: To exit: use 'exit', 'quit', or Ctrl-D.\n",
      "  warn(\"To exit: use 'exit', 'quit', or Ctrl-D.\", stacklevel=1)\n"
     ]
    }
   ],
   "source": [
    "import sys\n",
    "import socket\n",
    "import argparse\n",
    "\n",
    "def main():\n",
    "    parser = argparse.ArgumentParser(description=\"Socket Error Example\")\n",
    "    parser.add_argument(\"--host\", action=\"store\", dest=\"host\", required=False)\n",
    "    parser.add_argument(\"--port\", action=\"store\", dest=\"port\", required=False)\n",
    "    parser.add_argument(\"--file\", action=\"store\", dest=\"file\", required=False)\n",
    "    \n",
    "    given_args = parser.parse_args()\n",
    "    host = given_args.host\n",
    "    port = given_args.port\n",
    "    filename = given_args.file\n",
    "    \n",
    "    try:\n",
    "        s = socket.socket(socket.AF_INET, socket.SOCK_STREAM)\n",
    "    except socket.error, e:\n",
    "        print \"Error creating socket: {0}\".format(e)\n",
    "        sys.exit(1)\n",
    "        \n",
    "    try:\n",
    "        s.connect((host, port))\n",
    "    except socket.gaierror, e:\n",
    "        print \"Address-related error connecting to server: {0}\".format(e)\n",
    "        sys.exit(1)\n",
    "    except socket.error, e:\n",
    "        print \"Connection error: {0}\".format(e)\n",
    "        sys.exit(1)\n",
    "        \n",
    "    while True:\n",
    "        try:\n",
    "            buf = s.recv(2048)\n",
    "        except socket.error, e:\n",
    "            print \"Error receiving data: {0}\".format(e)\n",
    "            sys.exit(1)\n",
    "        if not len(buf):\n",
    "            break\n",
    "        sys.stdout.write(buf)\n",
    "        \n",
    "if __name__ == \"__main__\":\n",
    "    main()"
   ]
  },
  {
   "cell_type": "code",
   "execution_count": null,
   "metadata": {
    "collapsed": true
   },
   "outputs": [],
   "source": []
  }
 ],
 "metadata": {
  "kernelspec": {
   "display_name": "Python 2",
   "language": "python",
   "name": "python2"
  },
  "language_info": {
   "codemirror_mode": {
    "name": "ipython",
    "version": 2
   },
   "file_extension": ".py",
   "mimetype": "text/x-python",
   "name": "python",
   "nbconvert_exporter": "python",
   "pygments_lexer": "ipython2",
   "version": "2.7.13"
  }
 },
 "nbformat": 4,
 "nbformat_minor": 2
}
